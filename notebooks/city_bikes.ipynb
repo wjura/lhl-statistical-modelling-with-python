{
 "cells": [
  {
   "cell_type": "markdown",
   "metadata": {},
   "source": [
    "# CityBikes"
   ]
  },
  {
   "cell_type": "code",
   "execution_count": 1,
   "metadata": {},
   "outputs": [],
   "source": [
    "import pandas as pd\n",
    "import requests\n",
    "import json"
   ]
  },
  {
   "cell_type": "markdown",
   "metadata": {},
   "source": [
    "Send a request to CityBikes for the city of your choice. "
   ]
  },
  {
   "cell_type": "code",
   "execution_count": 2,
   "metadata": {},
   "outputs": [],
   "source": [
    "#Getting response for all cities to find href for Vancouver\n",
    "response = requests.request(\"GET\", url=\"http://api.citybik.es/v2/networks\")\n",
    "city_bikes = response.json()"
   ]
  },
  {
   "cell_type": "code",
   "execution_count": 3,
   "metadata": {},
   "outputs": [],
   "source": [
    "#Looping through the response to get Vancouver bikes info\n",
    "vancouver = None\n",
    "for i in city_bikes[\"networks\"]:\n",
    "    if i[\"location\"][\"city\"].lower() == \"vancouver\":\n",
    "        vancouver = i\n",
    "        break"
   ]
  },
  {
   "cell_type": "code",
   "execution_count": 4,
   "metadata": {},
   "outputs": [
    {
     "data": {
      "text/plain": [
       "{'company': ['Vanncouver Bike Share Inc.',\n",
       "  'CycleHop LLC',\n",
       "  'City of Vancouver',\n",
       "  'Shaw Communications Inc.',\n",
       "  'Fifteen'],\n",
       " 'gbfs_href': 'https://vancouver-gbfs.smoove.pro/gbfs/2/gbfs.json',\n",
       " 'href': '/v2/networks/mobibikes',\n",
       " 'id': 'mobibikes',\n",
       " 'location': {'city': 'Vancouver',\n",
       "  'country': 'CA',\n",
       "  'latitude': 49.2827,\n",
       "  'longitude': -123.1207},\n",
       " 'name': 'Mobi'}"
      ]
     },
     "execution_count": 4,
     "metadata": {},
     "output_type": "execute_result"
    }
   ],
   "source": [
    "vancouver"
   ]
  },
  {
   "cell_type": "code",
   "execution_count": 5,
   "metadata": {},
   "outputs": [],
   "source": [
    "#Getting response for Vancouver bikes\n",
    "response_van = requests.request(\"GET\", url=\"http://api.citybik.es/v2/networks/mobibikes\")\n",
    "data_van = response_van.json()"
   ]
  },
  {
   "cell_type": "markdown",
   "metadata": {},
   "source": [
    "Parse through the response to get the details you want for the bike stations in that city (latitude, longitude, number of bikes). "
   ]
  },
  {
   "cell_type": "code",
   "execution_count": 6,
   "metadata": {},
   "outputs": [
    {
     "data": {
      "text/plain": [
       "[{'empty_slots': 32,\n",
       "  'extra': {'ebikes': 0,\n",
       "   'has_ebikes': True,\n",
       "   'last_updated': 1723090537,\n",
       "   'normal_bikes': 1,\n",
       "   'renting': True,\n",
       "   'returning': True,\n",
       "   'slots': 35,\n",
       "   'uid': '0001'},\n",
       "  'free_bikes': 1,\n",
       "  'id': '7a19c49f486d7c0c02b3685d7b240448',\n",
       "  'latitude': 49.262487,\n",
       "  'longitude': -123.114397,\n",
       "  'name': '10th & Cambie',\n",
       "  'timestamp': '2024-08-08T04:21:41.969000Z'},\n",
       " {'empty_slots': 5,\n",
       "  'extra': {'ebikes': 1,\n",
       "   'has_ebikes': True,\n",
       "   'last_updated': 1723090823,\n",
       "   'normal_bikes': 9,\n",
       "   'renting': True,\n",
       "   'returning': True,\n",
       "   'slots': 16,\n",
       "   'uid': '0004'},\n",
       "  'free_bikes': 10,\n",
       "  'id': '32603a87cfca71d0f7dfa3513bad69d5',\n",
       "  'latitude': 49.274566,\n",
       "  'longitude': -123.121817,\n",
       "  'name': 'Yaletown-Roundhouse Station',\n",
       "  'timestamp': '2024-08-08T04:21:41.924000Z'},\n",
       " {'empty_slots': 16,\n",
       "  'extra': {'ebikes': 1,\n",
       "   'has_ebikes': True,\n",
       "   'last_updated': 1723090445,\n",
       "   'normal_bikes': 7,\n",
       "   'renting': True,\n",
       "   'returning': True,\n",
       "   'slots': 26,\n",
       "   'uid': '0005'},\n",
       "  'free_bikes': 8,\n",
       "  'id': '6d42fa40360f9a6b2bf641c7b8bb2862',\n",
       "  'latitude': 49.279764,\n",
       "  'longitude': -123.110154,\n",
       "  'name': 'Dunsmuir & Beatty',\n",
       "  'timestamp': '2024-08-08T04:21:41.933000Z'}]"
      ]
     },
     "execution_count": 6,
     "metadata": {},
     "output_type": "execute_result"
    }
   ],
   "source": [
    "#Looking into the response structure to figure what and how to get it to my df later\n",
    "stations_van = data_van[\"network\"][\"stations\"]\n",
    "stations_van[:3]"
   ]
  },
  {
   "cell_type": "code",
   "execution_count": 7,
   "metadata": {},
   "outputs": [],
   "source": [
    "#Creating a function to parse the json response and get only those info I need\n",
    "def parse_json(data):\n",
    "    bike_stations = []\n",
    "    for i in data:\n",
    "        bike_stations.append({\n",
    "        \"uid\":          i[\"extra\"][\"uid\"],\n",
    "        \"latitude\":     i[\"latitude\"],\n",
    "        \"longitude\":    i[\"longitude\"],\n",
    "        \"free_bikes\":   i[\"free_bikes\"],\n",
    "        \"empty_slots\":  i[\"empty_slots\"],\n",
    "        \"station_name\": i[\"name\"]\n",
    "        })\n",
    "    return bike_stations"
   ]
  },
  {
   "cell_type": "code",
   "execution_count": 8,
   "metadata": {},
   "outputs": [],
   "source": [
    "vancouver_stations = parse_json(stations_van)"
   ]
  },
  {
   "cell_type": "markdown",
   "metadata": {},
   "source": [
    "Put your parsed results into a DataFrame."
   ]
  },
  {
   "cell_type": "code",
   "execution_count": 9,
   "metadata": {},
   "outputs": [
    {
     "data": {
      "text/html": [
       "<div>\n",
       "<style scoped>\n",
       "    .dataframe tbody tr th:only-of-type {\n",
       "        vertical-align: middle;\n",
       "    }\n",
       "\n",
       "    .dataframe tbody tr th {\n",
       "        vertical-align: top;\n",
       "    }\n",
       "\n",
       "    .dataframe thead th {\n",
       "        text-align: right;\n",
       "    }\n",
       "</style>\n",
       "<table border=\"1\" class=\"dataframe\">\n",
       "  <thead>\n",
       "    <tr style=\"text-align: right;\">\n",
       "      <th></th>\n",
       "      <th>uid</th>\n",
       "      <th>latitude</th>\n",
       "      <th>longitude</th>\n",
       "      <th>free_bikes</th>\n",
       "      <th>empty_slots</th>\n",
       "      <th>station_name</th>\n",
       "    </tr>\n",
       "  </thead>\n",
       "  <tbody>\n",
       "    <tr>\n",
       "      <th>0</th>\n",
       "      <td>0001</td>\n",
       "      <td>49.262487</td>\n",
       "      <td>-123.114397</td>\n",
       "      <td>1</td>\n",
       "      <td>32</td>\n",
       "      <td>10th &amp; Cambie</td>\n",
       "    </tr>\n",
       "    <tr>\n",
       "      <th>1</th>\n",
       "      <td>0004</td>\n",
       "      <td>49.274566</td>\n",
       "      <td>-123.121817</td>\n",
       "      <td>10</td>\n",
       "      <td>5</td>\n",
       "      <td>Yaletown-Roundhouse Station</td>\n",
       "    </tr>\n",
       "    <tr>\n",
       "      <th>2</th>\n",
       "      <td>0005</td>\n",
       "      <td>49.279764</td>\n",
       "      <td>-123.110154</td>\n",
       "      <td>8</td>\n",
       "      <td>16</td>\n",
       "      <td>Dunsmuir &amp; Beatty</td>\n",
       "    </tr>\n",
       "    <tr>\n",
       "      <th>3</th>\n",
       "      <td>0007</td>\n",
       "      <td>49.260599</td>\n",
       "      <td>-123.113504</td>\n",
       "      <td>3</td>\n",
       "      <td>12</td>\n",
       "      <td>12th &amp; Yukon (City Hall)</td>\n",
       "    </tr>\n",
       "    <tr>\n",
       "      <th>4</th>\n",
       "      <td>0008</td>\n",
       "      <td>49.264215</td>\n",
       "      <td>-123.117772</td>\n",
       "      <td>3</td>\n",
       "      <td>12</td>\n",
       "      <td>8th &amp; Ash</td>\n",
       "    </tr>\n",
       "    <tr>\n",
       "      <th>...</th>\n",
       "      <td>...</td>\n",
       "      <td>...</td>\n",
       "      <td>...</td>\n",
       "      <td>...</td>\n",
       "      <td>...</td>\n",
       "      <td>...</td>\n",
       "    </tr>\n",
       "    <tr>\n",
       "      <th>249</th>\n",
       "      <td>0617</td>\n",
       "      <td>49.277510</td>\n",
       "      <td>-123.061429</td>\n",
       "      <td>5</td>\n",
       "      <td>14</td>\n",
       "      <td>Adanac &amp; Lakewood</td>\n",
       "    </tr>\n",
       "    <tr>\n",
       "      <th>250</th>\n",
       "      <td>0013</td>\n",
       "      <td>49.283482</td>\n",
       "      <td>-123.103738</td>\n",
       "      <td>15</td>\n",
       "      <td>10</td>\n",
       "      <td>Maple Tree Square</td>\n",
       "    </tr>\n",
       "    <tr>\n",
       "      <th>251</th>\n",
       "      <td>0400</td>\n",
       "      <td>49.271221</td>\n",
       "      <td>-123.191133</td>\n",
       "      <td>17</td>\n",
       "      <td>7</td>\n",
       "      <td>Jericho Beach</td>\n",
       "    </tr>\n",
       "    <tr>\n",
       "      <th>252</th>\n",
       "      <td>0169</td>\n",
       "      <td>49.283668</td>\n",
       "      <td>-123.109002</td>\n",
       "      <td>11</td>\n",
       "      <td>5</td>\n",
       "      <td>Cambie &amp; Cordova</td>\n",
       "    </tr>\n",
       "    <tr>\n",
       "      <th>253</th>\n",
       "      <td>0187</td>\n",
       "      <td>49.282055</td>\n",
       "      <td>-123.133045</td>\n",
       "      <td>4</td>\n",
       "      <td>14</td>\n",
       "      <td>Bute &amp; Davie</td>\n",
       "    </tr>\n",
       "  </tbody>\n",
       "</table>\n",
       "<p>254 rows × 6 columns</p>\n",
       "</div>"
      ],
      "text/plain": [
       "      uid   latitude   longitude  free_bikes  empty_slots  \\\n",
       "0    0001  49.262487 -123.114397           1           32   \n",
       "1    0004  49.274566 -123.121817          10            5   \n",
       "2    0005  49.279764 -123.110154           8           16   \n",
       "3    0007  49.260599 -123.113504           3           12   \n",
       "4    0008  49.264215 -123.117772           3           12   \n",
       "..    ...        ...         ...         ...          ...   \n",
       "249  0617  49.277510 -123.061429           5           14   \n",
       "250  0013  49.283482 -123.103738          15           10   \n",
       "251  0400  49.271221 -123.191133          17            7   \n",
       "252  0169  49.283668 -123.109002          11            5   \n",
       "253  0187  49.282055 -123.133045           4           14   \n",
       "\n",
       "                    station_name  \n",
       "0                  10th & Cambie  \n",
       "1    Yaletown-Roundhouse Station  \n",
       "2              Dunsmuir & Beatty  \n",
       "3       12th & Yukon (City Hall)  \n",
       "4                      8th & Ash  \n",
       "..                           ...  \n",
       "249            Adanac & Lakewood  \n",
       "250            Maple Tree Square  \n",
       "251                Jericho Beach  \n",
       "252             Cambie & Cordova  \n",
       "253                 Bute & Davie  \n",
       "\n",
       "[254 rows x 6 columns]"
      ]
     },
     "execution_count": 9,
     "metadata": {},
     "output_type": "execute_result"
    }
   ],
   "source": [
    "#Putting the obtained earlier dictionary into data frame\n",
    "stations_van_df = pd.DataFrame(vancouver_stations)\n",
    "stations_van_df"
   ]
  },
  {
   "cell_type": "code",
   "execution_count": 10,
   "metadata": {},
   "outputs": [],
   "source": [
    "#Saving the data to csv\n",
    "stations_van_df.to_csv(\"vancouver_bikes.csv\", index = False)"
   ]
  }
 ],
 "metadata": {
  "kernelspec": {
   "display_name": "Python 3 (ipykernel)",
   "language": "python",
   "name": "python3"
  },
  "language_info": {
   "codemirror_mode": {
    "name": "ipython",
    "version": 3
   },
   "file_extension": ".py",
   "mimetype": "text/x-python",
   "name": "python",
   "nbconvert_exporter": "python",
   "pygments_lexer": "ipython3",
   "version": "3.12.3"
  }
 },
 "nbformat": 4,
 "nbformat_minor": 4
}
