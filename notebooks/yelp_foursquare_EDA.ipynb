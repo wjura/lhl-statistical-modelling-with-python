{
 "cells": [
  {
   "cell_type": "code",
   "execution_count": 1,
   "metadata": {},
   "outputs": [],
   "source": [
    "import pandas as pd\n",
    "import os\n",
    "import requests\n",
    "import json"
   ]
  },
  {
   "cell_type": "markdown",
   "metadata": {},
   "source": [
    "# Foursquare"
   ]
  },
  {
   "cell_type": "markdown",
   "metadata": {},
   "source": [
    "Send a request to Foursquare with a small radius (1000m) for all the bike stations in your city of choice. "
   ]
  },
  {
   "cell_type": "code",
   "execution_count": 2,
   "metadata": {},
   "outputs": [],
   "source": [
    "#Setting the api_key variable\n",
    "api_key = os.environ[\"FOURSQUARE_API_KEY\"]"
   ]
  },
  {
   "cell_type": "code",
   "execution_count": 3,
   "metadata": {},
   "outputs": [
    {
     "data": {
      "text/html": [
       "<div>\n",
       "<style scoped>\n",
       "    .dataframe tbody tr th:only-of-type {\n",
       "        vertical-align: middle;\n",
       "    }\n",
       "\n",
       "    .dataframe tbody tr th {\n",
       "        vertical-align: top;\n",
       "    }\n",
       "\n",
       "    .dataframe thead th {\n",
       "        text-align: right;\n",
       "    }\n",
       "</style>\n",
       "<table border=\"1\" class=\"dataframe\">\n",
       "  <thead>\n",
       "    <tr style=\"text-align: right;\">\n",
       "      <th></th>\n",
       "      <th>uid</th>\n",
       "      <th>latitude</th>\n",
       "      <th>longitude</th>\n",
       "      <th>free_bikes</th>\n",
       "      <th>empty_slots</th>\n",
       "      <th>station_name</th>\n",
       "    </tr>\n",
       "  </thead>\n",
       "  <tbody>\n",
       "    <tr>\n",
       "      <th>0</th>\n",
       "      <td>1</td>\n",
       "      <td>49.262487</td>\n",
       "      <td>-123.114397</td>\n",
       "      <td>1</td>\n",
       "      <td>32</td>\n",
       "      <td>10th &amp; Cambie</td>\n",
       "    </tr>\n",
       "    <tr>\n",
       "      <th>1</th>\n",
       "      <td>4</td>\n",
       "      <td>49.274566</td>\n",
       "      <td>-123.121817</td>\n",
       "      <td>10</td>\n",
       "      <td>5</td>\n",
       "      <td>Yaletown-Roundhouse Station</td>\n",
       "    </tr>\n",
       "    <tr>\n",
       "      <th>2</th>\n",
       "      <td>5</td>\n",
       "      <td>49.279764</td>\n",
       "      <td>-123.110154</td>\n",
       "      <td>8</td>\n",
       "      <td>16</td>\n",
       "      <td>Dunsmuir &amp; Beatty</td>\n",
       "    </tr>\n",
       "    <tr>\n",
       "      <th>3</th>\n",
       "      <td>7</td>\n",
       "      <td>49.260599</td>\n",
       "      <td>-123.113504</td>\n",
       "      <td>3</td>\n",
       "      <td>12</td>\n",
       "      <td>12th &amp; Yukon (City Hall)</td>\n",
       "    </tr>\n",
       "    <tr>\n",
       "      <th>4</th>\n",
       "      <td>8</td>\n",
       "      <td>49.264215</td>\n",
       "      <td>-123.117772</td>\n",
       "      <td>3</td>\n",
       "      <td>12</td>\n",
       "      <td>8th &amp; Ash</td>\n",
       "    </tr>\n",
       "  </tbody>\n",
       "</table>\n",
       "</div>"
      ],
      "text/plain": [
       "   uid   latitude   longitude  free_bikes  empty_slots  \\\n",
       "0    1  49.262487 -123.114397           1           32   \n",
       "1    4  49.274566 -123.121817          10            5   \n",
       "2    5  49.279764 -123.110154           8           16   \n",
       "3    7  49.260599 -123.113504           3           12   \n",
       "4    8  49.264215 -123.117772           3           12   \n",
       "\n",
       "                  station_name  \n",
       "0                10th & Cambie  \n",
       "1  Yaletown-Roundhouse Station  \n",
       "2            Dunsmuir & Beatty  \n",
       "3     12th & Yukon (City Hall)  \n",
       "4                    8th & Ash  "
      ]
     },
     "execution_count": 3,
     "metadata": {},
     "output_type": "execute_result"
    }
   ],
   "source": [
    "#Reading in the vancouver_bikes dataframe, which includes the locations of all bike stations in Vancouver\n",
    "vancouver_bikes = pd.read_csv(\"vancouver_bikes.csv\")\n",
    "vancouver_bikes.head()"
   ]
  },
  {
   "cell_type": "code",
   "execution_count": 6,
   "metadata": {},
   "outputs": [],
   "source": [
    "#Creating a function to make an API request to Foursquare\n",
    "def get_venues_fsq(latitude, longitude, radius, api_key, categories):\n",
    "    url = \"https://api.foursquare.com/v3/places/search\"\n",
    "    \n",
    "    headers = {\n",
    "        \"Accept\": \"application/json\",\n",
    "        \"Authorization\": api_key\n",
    "    }\n",
    "    \n",
    "    params = {\n",
    "        \"ll\": f\"{latitude},{longitude}\",\n",
    "        \"radius\": radius,\n",
    "        \"categories\": categories,\n",
    "        \"limit\": 50\n",
    "    }\n",
    "    \n",
    "    response = requests.get(url, headers=headers, params=params)\n",
    "    return response"
   ]
  },
  {
   "cell_type": "markdown",
   "metadata": {},
   "source": [
    "Parse through the response to get the POI (such as restaurants, bars, etc) details you want (ratings, name, location, etc)"
   ]
  },
  {
   "cell_type": "code",
   "execution_count": 7,
   "metadata": {},
   "outputs": [],
   "source": [
    "#Creating an empty list for number of parks within 1000 radius from each bike station\n",
    "number_of_parks_list = []\n",
    "\n",
    "# Creating an empty list to store the JSON responses for each location\n",
    "foursquare_data = []\n",
    "        \n",
    "for i, r in vancouver_bikes.iterrows():\n",
    "    lat = r[\"latitude\"]\n",
    "    long = r[\"longitude\"]\n",
    "#Making a request for parks as a venue category within a 1000-meter radius from a bike station\n",
    "    res = get_venues_fsq(lat, long, radius = 1000, api_key = api_key, categories = 16032)\n",
    "    foursquare_results = res.json()\n",
    "#Checking the number of parks for each given location using the len function\n",
    "    number_of_parks = len(foursquare_results[\"results\"])\n",
    "#Appending the number of parks for each bike location to a list\n",
    "    parks_list.append(number_of_parks)\n",
    "    \n",
    "    for row in foursquare_results['results']:\n",
    "        foursquare_data.append({\n",
    "            'fsq_id'           :row['fsq_id'],\n",
    "            'distance_station' :row['distance'],\n",
    "            'latitude'         :row['geocodes']['main']['latitude'],\n",
    "            'longitude'        :row['geocodes']['main']['longitude'],\n",
    "            'name'             :row['name'],\n",
    "            'category_name'    :row['categories'][0]['name'],\n",
    "            'uid'              :r['uid']\n",
    "            }) "
   ]
  },
  {
   "cell_type": "markdown",
   "metadata": {},
   "source": [
    "Put your parsed results into a DataFrame"
   ]
  },
  {
   "cell_type": "code",
   "execution_count": null,
   "metadata": {},
   "outputs": [],
   "source": [
    "parks_fsq = pd.DataFrame(foursquare_data)"
   ]
  },
  {
   "cell_type": "markdown",
   "metadata": {},
   "source": [
    "# Yelp"
   ]
  },
  {
   "cell_type": "markdown",
   "metadata": {},
   "source": [
    "Send a request to Yelp with a small radius (1000m) for all the bike stations in your city of choice. "
   ]
  },
  {
   "cell_type": "code",
   "execution_count": null,
   "metadata": {},
   "outputs": [],
   "source": []
  },
  {
   "cell_type": "markdown",
   "metadata": {},
   "source": [
    "Parse through the response to get the POI (such as restaurants, bars, etc) details you want (ratings, name, location, etc)"
   ]
  },
  {
   "cell_type": "code",
   "execution_count": null,
   "metadata": {},
   "outputs": [],
   "source": []
  },
  {
   "cell_type": "markdown",
   "metadata": {},
   "source": [
    "Put your parsed results into a DataFrame"
   ]
  },
  {
   "cell_type": "markdown",
   "metadata": {},
   "source": []
  },
  {
   "cell_type": "markdown",
   "metadata": {},
   "source": [
    "# Comparing Results"
   ]
  },
  {
   "cell_type": "markdown",
   "metadata": {},
   "source": [
    "Which API provided you with more complete data? Provide an explanation. "
   ]
  },
  {
   "cell_type": "markdown",
   "metadata": {},
   "source": []
  },
  {
   "cell_type": "markdown",
   "metadata": {},
   "source": [
    "Get the top 10 restaurants according to their rating"
   ]
  },
  {
   "cell_type": "code",
   "execution_count": null,
   "metadata": {},
   "outputs": [],
   "source": []
  }
 ],
 "metadata": {
  "kernelspec": {
   "display_name": "Python 3 (ipykernel)",
   "language": "python",
   "name": "python3"
  },
  "language_info": {
   "codemirror_mode": {
    "name": "ipython",
    "version": 3
   },
   "file_extension": ".py",
   "mimetype": "text/x-python",
   "name": "python",
   "nbconvert_exporter": "python",
   "pygments_lexer": "ipython3",
   "version": "3.12.3"
  }
 },
 "nbformat": 4,
 "nbformat_minor": 4
}
